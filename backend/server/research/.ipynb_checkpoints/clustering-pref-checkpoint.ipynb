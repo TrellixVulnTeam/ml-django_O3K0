{
 "cells": [
  {
   "cell_type": "code",
   "execution_count": 1,
   "id": "62897016",
   "metadata": {},
   "outputs": [],
   "source": [
    "import pandas as pd\n",
    "import matplotlib.pyplot as plt"
   ]
  },
  {
   "cell_type": "code",
   "execution_count": 2,
   "id": "5282ee1f",
   "metadata": {},
   "outputs": [
    {
     "data": {
      "text/html": [
       "<div>\n",
       "<style scoped>\n",
       "    .dataframe tbody tr th:only-of-type {\n",
       "        vertical-align: middle;\n",
       "    }\n",
       "\n",
       "    .dataframe tbody tr th {\n",
       "        vertical-align: top;\n",
       "    }\n",
       "\n",
       "    .dataframe thead th {\n",
       "        text-align: right;\n",
       "    }\n",
       "</style>\n",
       "<table border=\"1\" class=\"dataframe\">\n",
       "  <thead>\n",
       "    <tr style=\"text-align: right;\">\n",
       "      <th></th>\n",
       "      <th>地域</th>\n",
       "      <th>B1101_総面積（北方地域及び竹島を除く）【ｈａ】</th>\n",
       "      <th>B1102_総面積（北方地域及び竹島を含む）【ｈａ】</th>\n",
       "      <th>B1103_可住地面積【ｈａ】</th>\n",
       "      <th>B1104_主要湖沼面積【ｈａ】</th>\n",
       "      <th>B1105_林野面積【ｈａ】</th>\n",
       "      <th>B1106_森林面積【ｈａ】</th>\n",
       "      <th>B1107_森林以外の草生地面積【ｈａ】</th>\n",
       "      <th>B1201_評価総地積（課税対象土地）【ｍ2】</th>\n",
       "      <th>B120103_評価総地積（宅地）【ｍ2】</th>\n",
       "    </tr>\n",
       "  </thead>\n",
       "  <tbody>\n",
       "    <tr>\n",
       "      <th>0</th>\n",
       "      <td>北海道 札幌市</td>\n",
       "      <td>112,126</td>\n",
       "      <td>112,126</td>\n",
       "      <td>44,036</td>\n",
       "      <td>0</td>\n",
       "      <td>68,228</td>\n",
       "      <td>67,690</td>\n",
       "      <td>538</td>\n",
       "      <td>333,758,282</td>\n",
       "      <td>137,395,497</td>\n",
       "    </tr>\n",
       "    <tr>\n",
       "      <th>1</th>\n",
       "      <td>北海道 函館市</td>\n",
       "      <td>67,783</td>\n",
       "      <td>67,783</td>\n",
       "      <td>12,838</td>\n",
       "      <td>0</td>\n",
       "      <td>55,453</td>\n",
       "      <td>52,925</td>\n",
       "      <td>2,528</td>\n",
       "      <td>212,257,638</td>\n",
       "      <td>31,328,638</td>\n",
       "    </tr>\n",
       "    <tr>\n",
       "      <th>2</th>\n",
       "      <td>北海道 小樽市</td>\n",
       "      <td>24,383</td>\n",
       "      <td>24,383</td>\n",
       "      <td>8,029</td>\n",
       "      <td>0</td>\n",
       "      <td>16,374</td>\n",
       "      <td>15,824</td>\n",
       "      <td>550</td>\n",
       "      <td>87,770,522</td>\n",
       "      <td>16,840,634</td>\n",
       "    </tr>\n",
       "    <tr>\n",
       "      <th>3</th>\n",
       "      <td>北海道 旭川市</td>\n",
       "      <td>74,766</td>\n",
       "      <td>74,766</td>\n",
       "      <td>35,022</td>\n",
       "      <td>0</td>\n",
       "      <td>39,572</td>\n",
       "      <td>39,419</td>\n",
       "      <td>153</td>\n",
       "      <td>330,636,443</td>\n",
       "      <td>52,587,973</td>\n",
       "    </tr>\n",
       "    <tr>\n",
       "      <th>4</th>\n",
       "      <td>北海道 室蘭市</td>\n",
       "      <td>8,088</td>\n",
       "      <td>8,088</td>\n",
       "      <td>4,327</td>\n",
       "      <td>0</td>\n",
       "      <td>3,761</td>\n",
       "      <td>2,508</td>\n",
       "      <td>1,253</td>\n",
       "      <td>43,866,647</td>\n",
       "      <td>18,703,042</td>\n",
       "    </tr>\n",
       "    <tr>\n",
       "      <th>...</th>\n",
       "      <td>...</td>\n",
       "      <td>...</td>\n",
       "      <td>...</td>\n",
       "      <td>...</td>\n",
       "      <td>...</td>\n",
       "      <td>...</td>\n",
       "      <td>...</td>\n",
       "      <td>...</td>\n",
       "      <td>...</td>\n",
       "      <td>...</td>\n",
       "    </tr>\n",
       "    <tr>\n",
       "      <th>1736</th>\n",
       "      <td>沖縄県 久米島町</td>\n",
       "      <td>6,365</td>\n",
       "      <td>6,365</td>\n",
       "      <td>3,997</td>\n",
       "      <td>0</td>\n",
       "      <td>2,374</td>\n",
       "      <td>2,374</td>\n",
       "      <td>0</td>\n",
       "      <td>26,015,973</td>\n",
       "      <td>1,733,080</td>\n",
       "    </tr>\n",
       "    <tr>\n",
       "      <th>1737</th>\n",
       "      <td>沖縄県 八重瀬町</td>\n",
       "      <td>2,696</td>\n",
       "      <td>2,696</td>\n",
       "      <td>2,499</td>\n",
       "      <td>0</td>\n",
       "      <td>200</td>\n",
       "      <td>200</td>\n",
       "      <td>0</td>\n",
       "      <td>20,750,021</td>\n",
       "      <td>3,060,738</td>\n",
       "    </tr>\n",
       "    <tr>\n",
       "      <th>1738</th>\n",
       "      <td>沖縄県 多良間村</td>\n",
       "      <td>2,199</td>\n",
       "      <td>2,199</td>\n",
       "      <td>1,588</td>\n",
       "      <td>0</td>\n",
       "      <td>611</td>\n",
       "      <td>491</td>\n",
       "      <td>120</td>\n",
       "      <td>11,393,983</td>\n",
       "      <td>291,846</td>\n",
       "    </tr>\n",
       "    <tr>\n",
       "      <th>1739</th>\n",
       "      <td>沖縄県 竹富町</td>\n",
       "      <td>33,439</td>\n",
       "      <td>33,439</td>\n",
       "      <td>5,653</td>\n",
       "      <td>0</td>\n",
       "      <td>27,786</td>\n",
       "      <td>25,699</td>\n",
       "      <td>2,087</td>\n",
       "      <td>53,183,876</td>\n",
       "      <td>1,645,571</td>\n",
       "    </tr>\n",
       "    <tr>\n",
       "      <th>1740</th>\n",
       "      <td>沖縄県 与那国町</td>\n",
       "      <td>2,896</td>\n",
       "      <td>2,896</td>\n",
       "      <td>1,219</td>\n",
       "      <td>0</td>\n",
       "      <td>1,720</td>\n",
       "      <td>1,225</td>\n",
       "      <td>495</td>\n",
       "      <td>11,572,459</td>\n",
       "      <td>352,044</td>\n",
       "    </tr>\n",
       "  </tbody>\n",
       "</table>\n",
       "<p>1741 rows × 10 columns</p>\n",
       "</div>"
      ],
      "text/plain": [
       "            地域 B1101_総面積（北方地域及び竹島を除く）【ｈａ】 B1102_総面積（北方地域及び竹島を含む）【ｈａ】  \\\n",
       "0      北海道 札幌市                    112,126                    112,126   \n",
       "1      北海道 函館市                     67,783                     67,783   \n",
       "2      北海道 小樽市                     24,383                     24,383   \n",
       "3      北海道 旭川市                     74,766                     74,766   \n",
       "4      北海道 室蘭市                      8,088                      8,088   \n",
       "...        ...                        ...                        ...   \n",
       "1736  沖縄県 久米島町                      6,365                      6,365   \n",
       "1737  沖縄県 八重瀬町                      2,696                      2,696   \n",
       "1738  沖縄県 多良間村                      2,199                      2,199   \n",
       "1739   沖縄県 竹富町                     33,439                     33,439   \n",
       "1740  沖縄県 与那国町                      2,896                      2,896   \n",
       "\n",
       "     B1103_可住地面積【ｈａ】 B1104_主要湖沼面積【ｈａ】 B1105_林野面積【ｈａ】 B1106_森林面積【ｈａ】  \\\n",
       "0             44,036                0         68,228         67,690   \n",
       "1             12,838                0         55,453         52,925   \n",
       "2              8,029                0         16,374         15,824   \n",
       "3             35,022                0         39,572         39,419   \n",
       "4              4,327                0          3,761          2,508   \n",
       "...              ...              ...            ...            ...   \n",
       "1736           3,997                0          2,374          2,374   \n",
       "1737           2,499                0            200            200   \n",
       "1738           1,588                0            611            491   \n",
       "1739           5,653                0         27,786         25,699   \n",
       "1740           1,219                0          1,720          1,225   \n",
       "\n",
       "     B1107_森林以外の草生地面積【ｈａ】 B1201_評価総地積（課税対象土地）【ｍ2】 B120103_評価総地積（宅地）【ｍ2】  \n",
       "0                     538             333,758,282           137,395,497  \n",
       "1                   2,528             212,257,638            31,328,638  \n",
       "2                     550              87,770,522            16,840,634  \n",
       "3                     153             330,636,443            52,587,973  \n",
       "4                   1,253              43,866,647            18,703,042  \n",
       "...                   ...                     ...                   ...  \n",
       "1736                    0              26,015,973             1,733,080  \n",
       "1737                    0              20,750,021             3,060,738  \n",
       "1738                  120              11,393,983               291,846  \n",
       "1739                2,087              53,183,876             1,645,571  \n",
       "1740                  495              11,572,459               352,044  \n",
       "\n",
       "[1741 rows x 10 columns]"
      ]
     },
     "execution_count": 2,
     "metadata": {},
     "output_type": "execute_result"
    }
   ],
   "source": [
    "df = pd.read_csv('nature-data.csv', encoding=\"shift-jis\", skiprows=11)\n",
    "df.columns\n",
    "df.drop(df.columns[0: 3], axis=1, inplace=True)\n",
    "df.drop(df.columns[1], axis=1, inplace=True)\n",
    "df"
   ]
  },
  {
   "cell_type": "code",
   "execution_count": 3,
   "id": "2cdff3af",
   "metadata": {},
   "outputs": [
    {
     "name": "stdout",
     "output_type": "stream",
     "text": [
      "Are there missing value? False\n",
      "How many? 0\n"
     ]
    }
   ],
   "source": [
    "print('Are there missing value?', df.isnull().values.any())\n",
    "print('How many?', df.isnull().values.sum())"
   ]
  },
  {
   "cell_type": "code",
   "execution_count": 4,
   "id": "8df71290",
   "metadata": {},
   "outputs": [],
   "source": [
    "df['B1106_森林面積【ｈａ】'] = df['B1106_森林面積【ｈａ】'].str.replace(',', '').astype(float)\n",
    "df['B1103_可住地面積【ｈａ】'] = df['B1103_可住地面積【ｈａ】'].str.replace(',', '').astype(float)"
   ]
  },
  {
   "cell_type": "code",
   "execution_count": 5,
   "id": "34985752",
   "metadata": {},
   "outputs": [
    {
     "name": "stdout",
     "output_type": "stream",
     "text": [
      "[[44036. 67690.]\n",
      " [12838. 52925.]\n",
      " [ 8029. 15824.]\n",
      " ...\n",
      " [ 1588.   491.]\n",
      " [ 5653. 25699.]\n",
      " [ 1219.  1225.]]\n"
     ]
    }
   ],
   "source": [
    "X = df.iloc[:, [3, 6]].values\n",
    "print(X)"
   ]
  },
  {
   "cell_type": "code",
   "execution_count": 11,
   "id": "eeb68e3d",
   "metadata": {},
   "outputs": [
    {
     "data": {
      "image/png": "[encoded data removed]",
      "text/plain": [
       "<Figure size 432x288 with 1 Axes>"
      ]
     },
     "metadata": {
      "needs_background": "light"
     },
     "output_type": "display_data"
    }
   ],
   "source": [
    "from sklearn.cluster import KMeans\n",
    "\n",
    "wcss = []\n",
    "for i in range(1, 11):\n",
    "  kmeans = KMeans(n_clusters=i, init='k-means++')\n",
    "  kmeans.fit(X)\n",
    "  wcss.append(kmeans.inertia_)\n",
    "plt.plot(range(1, 11), wcss)\n",
    "plt.title('Elbow Method')\n",
    "plt.xlabel('The number of clusters')\n",
    "plt.ylabel('WCSS')\n",
    "plt.show()"
   ]
  },
  {
   "cell_type": "code",
   "execution_count": 12,
   "id": "5d299ffd",
   "metadata": {},
   "outputs": [
    {
     "ename": "ModuleNotFoundError",
     "evalue": "No module named 'yellowbrick'",
     "output_type": "error",
     "traceback": [
      "\u001b[0;31m---------------------------------------------------------------------------\u001b[0m",
      "\u001b[0;31mModuleNotFoundError\u001b[0m                       Traceback (most recent call last)",
      "Input \u001b[0;32mIn [12]\u001b[0m, in \u001b[0;36m<cell line: 1>\u001b[0;34m()\u001b[0m\n\u001b[0;32m----> 1\u001b[0m \u001b[38;5;28;01mfrom\u001b[39;00m \u001b[38;5;21;01myellowbrick\u001b[39;00m\u001b[38;5;21;01m.\u001b[39;00m\u001b[38;5;21;01mcluster\u001b[39;00m \u001b[38;5;28;01mimport\u001b[39;00m KElbowVisualizer\n\u001b[1;32m      2\u001b[0m kmeans \u001b[38;5;241m=\u001b[39m KMeans()\n\u001b[1;32m      3\u001b[0m visualizer \u001b[38;5;241m=\u001b[39m KElbowVisualizer(kmeans, k\u001b[38;5;241m=\u001b[39m(\u001b[38;5;241m2\u001b[39m,\u001b[38;5;241m15\u001b[39m))\n",
      "\u001b[0;31mModuleNotFoundError\u001b[0m: No module named 'yellowbrick'"
     ]
    }
   ],
   "source": [
    "from yellowbrick.cluster import KElbowVisualizer\n",
    "kmeans = KMeans()\n",
    "visualizer = KElbowVisualizer(kmeans, k=(2,15))\n",
    "visualizer.fit(X)\n",
    "visualizer.poof()"
   ]
  }
 ],
 "metadata": {
  "kernelspec": {
   "display_name": "env",
   "language": "python",
   "name": "env"
  },
  "language_info": {
   "codemirror_mode": {
    "name": "ipython",
    "version": 3
   },
   "file_extension": ".py",
   "mimetype": "text/x-python",
   "name": "python",
   "nbconvert_exporter": "python",
   "pygments_lexer": "ipython3",
   "version": "3.9.6"
  }
 },
 "nbformat": 4,
 "nbformat_minor": 5
}
